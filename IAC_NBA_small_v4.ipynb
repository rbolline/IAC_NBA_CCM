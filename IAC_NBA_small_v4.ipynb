{
  "cells": [
    {
      "cell_type": "code",
      "execution_count": 1,
      "metadata": {
        "id": "bZpvp1FzeQJD"
      },
      "outputs": [],
      "source": [
        "import numpy as np\n",
        "import pandas as pd\n",
        "import matplotlib.pyplot as plt\n",
        "import seaborn as sns\n",
        "\n",
        "from tabulate import tabulate\n"
      ]
    },
    {
      "cell_type": "code",
      "execution_count": 2,
      "metadata": {
        "id": "G3tMsi8ReQJL"
      },
      "outputs": [],
      "source": [
        "#Set parameters\n",
        "max_val = 1\n",
        "min_val = -0.2\n",
        "rest_val = -0.1\n",
        "decay_val = 0.1\n",
        "estr_val = 0.4\n",
        "alpha_val = 0.1\n",
        "# alpha_val = 0.1\n",
        "gamma_val = 0.1\n",
        "\n",
        "#Set number of cycles\n",
        "ncycles = 100"
      ]
    },
    {
      "cell_type": "code",
      "execution_count": 3,
      "metadata": {
        "id": "bChPRB-keQJM"
      },
      "outputs": [],
      "source": [
        "def pool(n, name, type, nunits, unit_names, projections, weights, extInput=None):\n",
        "    \"\"\"\n",
        "    n: pool number (numeric)\n",
        "    name: name of pool (e.g., 'hidden') (string)\n",
        "    type: type of pool (e.g., 'input') (string)\n",
        "    nunits: number of units in pool (numeric)\n",
        "    projections: list of pools (list)\n",
        "    weights: list of weight matrices indexed by pool (list)\n",
        "    extInput: external input to pool (optional, defaults to None)\n",
        "    \"\"\"\n",
        "    if extInput is None:\n",
        "        extInput = np.zeros((1, nunits))\n",
        "\n",
        "    return {\"pool_number\": n,\n",
        "        \"name\": name,\n",
        "        \"type\": type, # hidden or input\n",
        "        \"nunits\": nunits,\n",
        "        \"unit_names\": unit_names,\n",
        "        \"projections\": projections,\n",
        "        \"weights\": weights,\n",
        "        \"extInput\": extInput,\n",
        "        \"activation\": np.zeros((1, nunits)),\n",
        "        \"inhibition\": np.zeros((1, nunits)),\n",
        "        \"excitation\": np.zeros((1, nunits)),\n",
        "        \"netInput\": np.zeros((1, nunits)),\n",
        "        \"activation_history\": []}\n"
      ]
    },
    {
      "cell_type": "code",
      "execution_count": 4,
      "metadata": {
        "id": "Yk7RYs52eQJO"
      },
      "outputs": [],
      "source": [
        "def set_extInput(pool_i, input):\n",
        "    \n",
        "    pool_i[\"extInput\"] = np.array([input])\n",
        "    \n",
        "    return pool_i"
      ]
    },
    {
      "cell_type": "code",
      "execution_count": 5,
      "metadata": {},
      "outputs": [],
      "source": [
        "# import data\n",
        "# Features to Features [14 x 14]\n",
        "f2F = pd.read_csv(\"csv_files/NBA_features2features_Small.csv\")\n",
        "\n",
        "\n",
        "f2F.index = f2F.iloc[:, 0]\n",
        "f2F = f2F.iloc[:, 1:]\n",
        "f2F_df = f2F.copy()\n",
        "f2F = np.array(f2F)\n",
        "\n",
        "features_tuple = tuple(str(idx) for idx in f2F_df.index)\n",
        "\n",
        "num_features = len(features_tuple)"
      ]
    },
    {
      "cell_type": "code",
      "execution_count": 6,
      "metadata": {},
      "outputs": [],
      "source": [
        "# features to hidden matrix\n",
        "f2H = pd.read_csv(\"csv_files/NBA_features2Hidden_Small.csv\", index_col=0)\n",
        "f2H_df = f2H.copy()\n",
        "f2H = f2H.fillna(0)\n",
        "f2H = f2H.to_numpy()\n",
        "\n",
        "names_tuple = tuple(str(idx) for idx in f2H_df.index)\n",
        "\n",
        "num_players = len(names_tuple)"
      ]
    },
    {
      "cell_type": "code",
      "execution_count": 7,
      "metadata": {
        "id": "xmeSHhyoeQJP"
      },
      "outputs": [],
      "source": [
        "def run_simulation(pool_, ncycles):\n",
        "\n",
        "    for x in range(ncycles):\n",
        "        print('cycle x:',x)\n",
        "        for i in range(len(pool_)):\n",
        "            \n",
        "            #print('pool i:',i)\n",
        "            pool_[i]['excitation'] = np.zeros((1, pool_[i]['nunits']))\n",
        "            pool_[i]['inhibition'] = np.zeros((1, pool_[i]['nunits']))\n",
        "\n",
        "            for sender in pool_[i]['projections']:\n",
        "                #print(\"sender idx:\",sender)\n",
        "                positive_acts_indices = np.argwhere(pool_[sender]['activation'] > 0)[:,1] #np.where(pool_[sender]['activation'] > 0)[0]\n",
        "\n",
        "                #print(\"positive activation idx:\", positive_acts_indices)\n",
        "\n",
        "                if len(positive_acts_indices) > 0:\n",
        "                    for k in range(len(positive_acts_indices)):\n",
        "                        \n",
        "                        index = positive_acts_indices[k]\n",
        "                        #print('specific index:',index)\n",
        "                        wts = pool_[i]['weights'][sender][index, :]\n",
        "                        #print('wts = pool_[i][weights][sender][index, :]', wts)\n",
        "                        #pool_[i]['excitation'][wts > 0] += pool_[sender]['activation'][index] * wts[wts > 0]\n",
        "                        #pool_[i]['inhibition'][wts < 0] += pool_[sender]['activation'][index] * wts[wts < 0]\n",
        "\n",
        "                        wts_e=np.argwhere([wts > 0])[:,1]\n",
        "                        wts_i=np.argwhere([wts < 0])[:,1]\n",
        "\n",
        "                        #print('wts>0, wts<0',wts_e,wts_i)\n",
        "\n",
        "                        #print('before:',pool_[i]['excitation'],pool_[i]['inhibition'])\n",
        "\n",
        "                        for w_e in wts_e: \n",
        "                            pool_[i]['excitation'][:,w_e] += pool_[sender]['activation'][:,index] * wts[w_e]                           \n",
        "                        for w_i in wts_i:\n",
        "                            pool_[i]['inhibition'][:,w_i] += pool_[sender]['activation'][:,index] * wts[w_i]\n",
        "                        \n",
        "                        #print('after:',pool_[i]['excitation'],pool_[i]['inhibition'])\n",
        "                            \n",
        "\n",
        "            pool_[i]['excitation'] *= alpha_val\n",
        "            pool_[i]['inhibition'] *= gamma_val\n",
        "            #print('after after:',pool_[i]['excitation'],pool_[i]['inhibition'])\n",
        "            pool_[i]['netInput'] = pool_[i]['excitation'] + pool_[i]['inhibition'] + estr_val * pool_[i]['extInput']\n",
        "\n",
        "            #print('netinput: ',pool_[i]['netInput'])\n",
        "        \n",
        "        for i in range(len(pool_)):\n",
        "\n",
        "            #print(i)\n",
        "            pns = np.argwhere(pool_[i]['netInput'] > 0)[:,1]#np.where(pool_[i]['netInput'] > 0)[0]\n",
        "\n",
        "            if len(pns) > 0:\n",
        "                for p in pns:\n",
        "                    pool_[i]['activation'][:,p] += (max_val - pool_[i]['activation'][:,p]) * pool_[i]['netInput'][:,p] - decay_val * (pool_[i]['activation'][:,p] - rest_val)\n",
        "\n",
        "            nps = np.argwhere(pool_[i]['netInput'] <= 0)[:,1]\n",
        "\n",
        "            if len(nps) > 0:\n",
        "                for n in nps:\n",
        "                    pool_[i]['activation'][:,n] += (pool_[i]['activation'][:,n] - min_val) * pool_[i]['netInput'][:,n] - decay_val * (pool_[i]['activation'][:,n] - rest_val)\n",
        "            \n",
        "            pool_[i]['activation'][pool_[i]['activation'] > max_val] = max_val\n",
        "            pool_[i]['activation'][pool_[i]['activation'] < min_val] = min_val\n",
        "\n",
        "            pool_[i]['activation_history'].append(np.copy(pool_[i]['activation']))\n",
        "    \n",
        "    return pool_"
      ]
    },
    {
      "cell_type": "code",
      "execution_count": 8,
      "metadata": {
        "id": "GSIKMDXkeQJR"
      },
      "outputs": [],
      "source": [
        "def plot_pools(pool_):\n",
        "\n",
        "    # pool 1 features\n",
        "    #a_history_1 = pool_[0]['activation_history']\n",
        "    a_history_1=np.reshape(np.array(pool_[0]['activation_history']), [ncycles, num_features])\n",
        "    unit_names_1 = pool_[0]['unit_names']\n",
        "    m1 = pd.DataFrame(a_history_1)\n",
        "    m1.columns = unit_names_1\n",
        "    m1['step']=m1.index\n",
        "    dfm1=m1.melt('step',var_name='Feature', value_name='Activation')\n",
        "    plot1=sns.catplot(x=\"step\", y=\"Activation\", hue='Feature', data=dfm1,  kind='point')\n",
        "    plt.title('Activation of Feature Units by Cycle')\n",
        "    plt.xlabel('Cycle')\n",
        "    plt.ylabel('Activation')\n",
        "\n",
        "    # pool 2 names\n",
        "    a_history_2 = np.reshape(np.array(pool_[1]['activation_history']), [ncycles, num_players])\n",
        "    unit_names_2 = pool_[1]['unit_names']\n",
        "    m2 = pd.DataFrame(a_history_2)\n",
        "    m2.columns = unit_names_2\n",
        "    m2['step']=m2.index\n",
        "    dfm2=m2.melt('step',var_name='Name', value_name='Activation')\n",
        "    plot2=sns.catplot(x=\"step\", y=\"Activation\", hue='Name', data=dfm2,  kind='point')\n",
        "    plt.title('Activation of Name Units by Cycle')\n",
        "    plt.xlabel('Cycle')\n",
        "    plt.ylabel('Activation')\n",
        "\n",
        "    # pool 3 - hidden \n",
        "    a_history = np.reshape(np.array(pool_[2]['activation_history']), [ncycles, num_players])\n",
        "    unit_names = pool_[2]['unit_names']\n",
        "    m3 = pd.DataFrame(a_history)\n",
        "    m3.columns = unit_names\n",
        "    m3['step']=m3.index\n",
        "    dfm3=m3.melt('step',var_name='Hidden Unit', value_name='Activation')\n",
        "    plot3=sns.catplot(x=\"step\", y=\"Activation\", hue='Hidden Unit', data=dfm3,  kind='point')\n",
        "    plt.title('Activation of Hidden Units by Cycle')\n",
        "    plt.xlabel('Cycle')\n",
        "    plt.ylabel('Activation')\n",
        "\n",
        "    return {\"features\": plot1, \"names\": plot2, \"hidden\": plot3}\n"
      ]
    },
    {
      "cell_type": "code",
      "execution_count": 9,
      "metadata": {
        "id": "1ruILJLreQJS"
      },
      "outputs": [],
      "source": [
        "def rank_activations_by_pool(pool_):\n",
        "    \n",
        "    features_out = pool_[0]['activation'].flatten()\n",
        "    features_names = pool_[0]['unit_names']\n",
        "    features_df = pd.DataFrame({'feature': features_names, 'activation': features_out})\n",
        "    features_df = features_df.sort_values(by=['activation'], ascending=False)\n",
        "    \n",
        "    names_out = pool_[1]['activation'].flatten()\n",
        "    names_names = pool_[1]['unit_names']\n",
        "    names_df = pd.DataFrame({'name': names_names, 'activation': names_out})\n",
        "    names_df = names_df.sort_values(by=['activation'], ascending=False)\n",
        "    \n",
        "    hidden_out = pool_[2]['activation'].flatten()\n",
        "    hidden_names = pool_[2]['unit_names']\n",
        "    hidden_df = pd.DataFrame({'name': hidden_names, 'activation': hidden_out})\n",
        "    hidden_df = hidden_df.sort_values(by=['activation'], ascending=False)\n",
        "    \n",
        "    return {'features': features_df, 'names': names_df, 'hidden': hidden_df}\n"
      ]
    },
    {
      "cell_type": "code",
      "execution_count": 10,
      "metadata": {
        "id": "gKLC4d92eQJT"
      },
      "outputs": [],
      "source": [
        "# # Features to Features [14 x 14]\n",
        "# f2F = pd.read_csv(\"csv_files/NBA_features2features_Small.csv\")\n",
        "\n",
        "\n",
        "# f2F.index = f2F.iloc[:, 0]\n",
        "# f2F = f2F.iloc[:, 1:]\n",
        "# f2F_df = f2F.copy()\n",
        "# f2F = np.array(f2F)\n",
        "\n",
        "# features_tuple = tuple(str(idx) for idx in f2F_df.index)\n",
        "\n",
        "# num_features = len(features_tuple)"
      ]
    },
    {
      "cell_type": "code",
      "execution_count": 11,
      "metadata": {
        "id": "qJcqMmIGeQJT"
      },
      "outputs": [],
      "source": [
        "# # features to hidden matrix\n",
        "# f2H = pd.read_csv(\"csv_files/NBA_features2Hidden_Small.csv\", index_col=0)\n",
        "# f2H_df = f2H.copy()\n",
        "# f2H = f2H.fillna(0)\n",
        "# f2H = f2H.to_numpy()\n",
        "\n",
        "# names_tuple = tuple(str(idx) for idx in f2H_df.index)\n",
        "\n",
        "# num_players = len(names_tuple)\n"
      ]
    },
    {
      "cell_type": "code",
      "execution_count": 12,
      "metadata": {
        "id": "F-vT-Qa7eQJU"
      },
      "outputs": [],
      "source": [
        "# names to names\n",
        "\n",
        "n2N = np.full((num_players, num_players), -1)\n",
        "np.fill_diagonal(n2N, 0)\n",
        "#n2N"
      ]
    },
    {
      "cell_type": "code",
      "execution_count": 13,
      "metadata": {
        "id": "k5ZB7HN7eQJU"
      },
      "outputs": [],
      "source": [
        "# names to hidden [27 x 27]\n",
        "# [1] Art Al Sam Clyde Mike Jim Greg John Doug Lance George Pete \n",
        "# [13] Fred Gene Ralph Phil Ike Nick Don Ned Karl Ken Earl Rick Ol Neal Dave\n",
        "n2H = np.eye(num_players)\n",
        "#n2H"
      ]
    },
    {
      "cell_type": "code",
      "execution_count": 14,
      "metadata": {
        "id": "uCEkwl-KeQJV"
      },
      "outputs": [],
      "source": [
        "h2H = n2N"
      ]
    },
    {
      "cell_type": "code",
      "execution_count": 15,
      "metadata": {
        "id": "pq8SVpcseQJV"
      },
      "outputs": [],
      "source": [
        "featurePool=pool(0, \"features\", \"input\", num_features, unit_names = list(features_tuple),projections = list((0,2)), weights = {0 : f2F,2 : f2H})\n"
      ]
    },
    {
      "cell_type": "code",
      "execution_count": 16,
      "metadata": {
        "id": "ifgPciJveQJV"
      },
      "outputs": [],
      "source": [
        "namePool=pool(1, \"names\", \"input\", num_players, unit_names = list(names_tuple),projections = list((1,2)), weights = {1 : n2N,2 : n2H})"
      ]
    },
    {
      "cell_type": "code",
      "execution_count": 17,
      "metadata": {
        "id": "F67D4uMfeQJW"
      },
      "outputs": [],
      "source": [
        "hiddenPool=pool(2, \"hidden\", \"hidden\", num_players, unit_names = list(names_tuple),projections = list((0,1,2)), weights = {0:f2H.T, 1:n2H.T, 2:h2H})"
      ]
    },
    {
      "cell_type": "code",
      "execution_count": 18,
      "metadata": {
        "colab": {
          "base_uri": "https://localhost:8080/"
        },
        "id": "7TCrWvmZeQJW",
        "outputId": "a15b06fb-07cd-4c45-a1cb-cc744bb63b5e"
      },
      "outputs": [
        {
          "name": "stdout",
          "output_type": "stream",
          "text": [
            "+----+-------------------------+------------+--------------+-------+---------+---------------+--------------+\n",
            "|    | Name                    | Position   | Height       | Age   | Draft   | Nationality   | Conference   |\n",
            "|----+-------------------------+------------+--------------+-------+---------+---------------+--------------|\n",
            "|  0 | Bam Adebayo             | Center     | 6'5\" - 6'11\" | 25-29 | Round 1 | Domestic      | Eastern      |\n",
            "|  1 | Giannis Antetokounmpo   | Forward    | 6'5\" - 6'11\" | 25-29 | Round 1 | International | Eastern      |\n",
            "|  2 | Jaylen Brown            | Forward    | 6'5\" - 6'11\" | 25-29 | Round 1 | Domestic      | Eastern      |\n",
            "|  3 | Stephen Curry           | Guard      | 6' - 6'5\"    | 35+   | Round 1 | Domestic      | Western      |\n",
            "|  4 | DeMar DeRozan           | Guard      | 6'5\" - 6'11\" | 30-34 | Round 1 | Domestic      | Eastern      |\n",
            "|  5 | Luka Doncic             | Forward    | 6'5\" - 6'11\" | 18-24 | Round 1 | International | Western      |\n",
            "|  6 | Kevin Durant            | Forward    | 6'5\" - 6'11\" | 30-34 | Round 1 | Domestic      | Western      |\n",
            "|  7 | Anthony Edwards         | Forward    | 6' - 6'5\"    | 18-24 | Round 1 | Domestic      | Western      |\n",
            "|  8 | Joel Embiid             | Center     | 7' and Over  | 25-29 | Round 1 | International | Eastern      |\n",
            "|  9 | De'Aaron Fox            | Guard      | 6' - 6'5\"    | 25-29 | Round 1 | Domestic      | Western      |\n",
            "| 10 | Paul George             | Guard      | 6'5\" - 6'11\" | 30-34 | Round 1 | Domestic      | Western      |\n",
            "| 11 | Shai Gilgeous-Alexander | Guard      | 6'5\" - 6'11\" | 18-24 | Round 1 | International | Western      |\n",
            "| 12 | Tyrese Haliburton       | Guard      | 6' - 6'5\"    | 18-24 | Round 1 | Domestic      | Eastern      |\n",
            "| 13 | Jrue Holiday            | Guard      | 6' - 6'5\"    | 30-34 | Round 1 | Domestic      | Eastern      |\n",
            "| 14 | Kyrie Irving            | Guard      | 6' - 6'5\"    | 30-34 | Round 1 | Domestic      | Western      |\n",
            "| 15 | Jaren Jackson, Jr.      | Forward    | 6'5\" - 6'11\" | 18-24 | Round 1 | Domestic      | Western      |\n",
            "| 16 | LeBron James            | Forward    | 6'5\" - 6'11\" | 35+   | Round 1 | Domestic      | Western      |\n",
            "| 17 | Nikola Jokic            | Center     | 7' and Over  | 25-29 | Round 2 | International | Western      |\n",
            "| 18 | Damian Lillard          | Guard      | 6' - 6'5\"    | 30-34 | Round 1 | Domestic      | Western      |\n",
            "| 19 | Lauri Markkanen         | Forward    | 7' and Over  | 25-29 | Round 1 | International | Western      |\n",
            "| 20 | Donovan Mitchell        | Guard      | 6' - 6'5\"    | 25-29 | Round 1 | Domestic      | Eastern      |\n",
            "| 21 | Ja Morant               | Guard      | 6' - 6'5\"    | 18-24 | Round 1 | Domestic      | Western      |\n",
            "| 22 | Julius Randle           | Forward    | 6'5\" - 6'11\" | 25-29 | Round 1 | Domestic      | Eastern      |\n",
            "| 23 | Domantas Sabonis        | Forward    | 6'5\" - 6'11\" | 25-29 | Round 1 | Domestic      | Western      |\n",
            "| 24 | Pascal Siakam           | Forward    | 6'5\" - 6'11\" | 25-29 | Round 1 | International | Eastern      |\n",
            "| 25 | Jayson Tatum            | Forward    | 6'5\" - 6'11\" | 25-29 | Round 1 | Domestic      | Eastern      |\n",
            "| 26 | Zion Williamson         | Forward    | 6'5\" - 6'11\" | 18-24 | Round 1 | Domestic      | Western      |\n",
            "+----+-------------------------+------------+--------------+-------+---------+---------------+--------------+\n"
          ]
        }
      ],
      "source": [
        "# js = pd.read_csv('jetsSharks.csv', header=None)\n",
        "# js = pd.read_csv('nba_players_small.csv', header=None)\n",
        "js = pd.read_csv('csv_files/nba_players_small.csv')\n",
        "# js.columns = [\"Name\", \"Affiliation\", \"Age\", \"Education\", \"Relationship Status\", \"Occupation\"]\n",
        "print(tabulate(js, headers='keys', tablefmt='psql'))"
      ]
    },
    {
      "cell_type": "code",
      "execution_count": 19,
      "metadata": {
        "id": "Je9qvOq_eQJX"
      },
      "outputs": [],
      "source": [
        "# featurePool=set_extInput(featurePool, np.array([0, 0, 1, 0, 0, 0, 0, 0, 0, 0, 1, 0, 0, 0, 0, 0, 0, 0]))\n",
        "\n",
        "# Guard, 6_5 to 6_11\n",
        "featurePool=set_extInput(featurePool, np.array([0, 0, 1, 0, 0, 1, 0, 0, 0, 0, 0, 0, 0, 0, 0, 0, 0, 0]))\n",
        "\n",
        "namePool=set_extInput(namePool, np.zeros(num_players))"
      ]
    },
    {
      "cell_type": "code",
      "execution_count": 20,
      "metadata": {
        "id": "qgLdo-KmeQJX"
      },
      "outputs": [],
      "source": [
        "pool_= list((featurePool, namePool, hiddenPool))\n",
        "#pool_[0]"
      ]
    },
    {
      "cell_type": "code",
      "execution_count": 21,
      "metadata": {
        "colab": {
          "base_uri": "https://localhost:8080/"
        },
        "id": "IUV9cRsMeQJX",
        "outputId": "c7cf00f7-a761-4bad-b9fa-9f430613bdfc"
      },
      "outputs": [
        {
          "name": "stdout",
          "output_type": "stream",
          "text": [
            "cycle x: 0\n",
            "cycle x: 1\n",
            "cycle x: 2\n",
            "cycle x: 3\n",
            "cycle x: 4\n",
            "cycle x: 5\n",
            "cycle x: 6\n",
            "cycle x: 7\n",
            "cycle x: 8\n",
            "cycle x: 9\n",
            "cycle x: 10\n",
            "cycle x: 11\n",
            "cycle x: 12\n",
            "cycle x: 13\n",
            "cycle x: 14\n",
            "cycle x: 15\n",
            "cycle x: 16\n",
            "cycle x: 17\n",
            "cycle x: 18\n",
            "cycle x: 19\n",
            "cycle x: 20\n",
            "cycle x: 21\n",
            "cycle x: 22\n",
            "cycle x: 23\n",
            "cycle x: 24\n",
            "cycle x: 25\n",
            "cycle x: 26\n",
            "cycle x: 27\n",
            "cycle x: 28\n",
            "cycle x: 29\n",
            "cycle x: 30\n",
            "cycle x: 31\n",
            "cycle x: 32\n",
            "cycle x: 33\n",
            "cycle x: 34\n",
            "cycle x: 35\n",
            "cycle x: 36\n",
            "cycle x: 37\n",
            "cycle x: 38\n",
            "cycle x: 39\n",
            "cycle x: 40\n",
            "cycle x: 41\n",
            "cycle x: 42\n",
            "cycle x: 43\n",
            "cycle x: 44\n",
            "cycle x: 45\n",
            "cycle x: 46\n",
            "cycle x: 47\n",
            "cycle x: 48\n",
            "cycle x: 49\n",
            "cycle x: 50\n",
            "cycle x: 51\n",
            "cycle x: 52\n",
            "cycle x: 53\n",
            "cycle x: 54\n",
            "cycle x: 55\n",
            "cycle x: 56\n",
            "cycle x: 57\n",
            "cycle x: 58\n",
            "cycle x: 59\n",
            "cycle x: 60\n",
            "cycle x: 61\n",
            "cycle x: 62\n",
            "cycle x: 63\n",
            "cycle x: 64\n",
            "cycle x: 65\n",
            "cycle x: 66\n",
            "cycle x: 67\n",
            "cycle x: 68\n",
            "cycle x: 69\n",
            "cycle x: 70\n",
            "cycle x: 71\n",
            "cycle x: 72\n",
            "cycle x: 73\n",
            "cycle x: 74\n",
            "cycle x: 75\n",
            "cycle x: 76\n",
            "cycle x: 77\n",
            "cycle x: 78\n",
            "cycle x: 79\n",
            "cycle x: 80\n",
            "cycle x: 81\n",
            "cycle x: 82\n",
            "cycle x: 83\n",
            "cycle x: 84\n",
            "cycle x: 85\n",
            "cycle x: 86\n",
            "cycle x: 87\n",
            "cycle x: 88\n",
            "cycle x: 89\n",
            "cycle x: 90\n",
            "cycle x: 91\n",
            "cycle x: 92\n",
            "cycle x: 93\n",
            "cycle x: 94\n",
            "cycle x: 95\n",
            "cycle x: 96\n",
            "cycle x: 97\n",
            "cycle x: 98\n",
            "cycle x: 99\n"
          ]
        }
      ],
      "source": [
        "\n",
        "pool_=run_simulation(pool_,ncycles)"
      ]
    },
    {
      "cell_type": "code",
      "execution_count": 22,
      "metadata": {
        "colab": {
          "base_uri": "https://localhost:8080/",
          "height": 1000
        },
        "id": "-b5fNszjeQJY",
        "outputId": "1e37d8f3-176d-460e-b820-c4742ab79443"
      },
      "outputs": [
        {
          "data": {
            "image/png": "[encoded data removed]",
            "text/plain": [
              "<Figure size 459.875x360 with 1 Axes>"
            ]
          },
          "metadata": {
            "needs_background": "light"
          },
          "output_type": "display_data"
        },
        {
          "data": {
            "image/png": "[encoded data removed]",
            "text/plain": [
              "<Figure size 518.5x360 with 1 Axes>"
            ]
          },
          "metadata": {
            "needs_background": "light"
          },
          "output_type": "display_data"
        },
        {
          "data": {
            "image/png": "[encoded data removed]",
            "text/plain": [
              "<Figure size 518.5x360 with 1 Axes>"
            ]
          },
          "metadata": {
            "needs_background": "light"
          },
          "output_type": "display_data"
        }
      ],
      "source": [
        "nnplot = plot_pools(pool_)\n",
        "#nnplot.hidden"
      ]
    },
    {
      "cell_type": "code",
      "execution_count": 23,
      "metadata": {
        "colab": {
          "base_uri": "https://localhost:8080/"
        },
        "id": "nVpnGI36eQJY",
        "outputId": "19aad818-4c91-4122-f902-999fe2e430fe"
      },
      "outputs": [
        {
          "name": "stdout",
          "output_type": "stream",
          "text": [
            "      Rank  name                       activation\n",
            "--  ------  -----------------------  ------------\n",
            " 0       1  Paul George                0.686219\n",
            " 1       2  DeMar DeRozan              0.574792\n",
            " 2       3  Damian Lillard             0.530257\n",
            " 3       4  Kyrie Irving               0.530257\n",
            " 4       5  Kevin Durant               0.495334\n",
            " 5       6  Shai Gilgeous-Alexander    0.108046\n",
            " 6       7  Jrue Holiday               0.0607083\n",
            " 7       8  Ja Morant                 -0.0065609\n",
            " 8       9  De'Aaron Fox              -0.00658353\n",
            " 9      10  Stephen Curry             -0.00658356\n",
            "10      11  Jaren Jackson, Jr.        -0.10256\n",
            "11      12  Zion Williamson           -0.10256\n",
            "12      13  Domantas Sabonis          -0.102589\n",
            "13      14  LeBron James              -0.102589\n",
            "14      15  Tyrese Haliburton         -0.136591\n",
            "15      16  Donovan Mitchell          -0.136591\n",
            "16      17  Jaylen Brown              -0.141284\n",
            "17      18  Julius Randle             -0.141284\n",
            "18      19  Jayson Tatum              -0.141284\n",
            "19      20  Bam Adebayo               -0.141284\n",
            "20      21  Luka Doncic               -0.142684\n",
            "21      22  Anthony Edwards           -0.143063\n",
            "22      23  Giannis Antetokounmpo     -0.158669\n",
            "23      24  Pascal Siakam             -0.158669\n",
            "24      25  Lauri Markkanen           -0.161308\n",
            "25      26  Joel Embiid               -0.169308\n",
            "26      27  Nikola Jokic              -0.16978\n"
          ]
        }
      ],
      "source": [
        "ranked_activations = rank_activations_by_pool(pool_)\n",
        "\n",
        "# Display the 'hidden' pool in a table\n",
        "hidden_table = ranked_activations['hidden']\n",
        "hidden_table = hidden_table.reset_index(drop=True)  # Reset index to start from 0\n",
        "hidden_table.insert(0, 'Rank', range(1, len(hidden_table) + 1))  # Add rank column\n",
        "hidden_table_html = tabulate(hidden_table, headers='keys')  # Convert to HTML table\n",
        "\n",
        "# Print the HTML table\n",
        "print(hidden_table_html)"
      ]
    },
    {
      "cell_type": "code",
      "execution_count": 24,
      "metadata": {},
      "outputs": [
        {
          "name": "stdout",
          "output_type": "stream",
          "text": [
            "      Rank  name                       activation\n",
            "--  ------  -----------------------  ------------\n",
            " 0       1  Paul George                 0.284635\n",
            " 1       2  DeMar DeRozan               0.14832\n",
            " 2       3  Damian Lillard             -0.0058845\n",
            " 3       4  Kyrie Irving               -0.0058845\n",
            " 4       5  Kevin Durant               -0.0342735\n",
            " 5       6  Shai Gilgeous-Alexander    -0.123749\n",
            " 6       7  Jrue Holiday               -0.128224\n",
            " 7       8  Ja Morant                  -0.130244\n",
            " 8       9  Jaren Jackson, Jr.         -0.130244\n",
            " 9      10  Zion Williamson            -0.130244\n",
            "10      11  Domantas Sabonis           -0.130244\n",
            "11      12  LeBron James               -0.130244\n",
            "12      13  De'Aaron Fox               -0.130244\n",
            "13      14  Stephen Curry              -0.130244\n",
            "14      15  Tyrese Haliburton          -0.130244\n",
            "15      16  Jaylen Brown               -0.130244\n",
            "16      17  Julius Randle              -0.130244\n",
            "17      18  Jayson Tatum               -0.130244\n",
            "18      19  Bam Adebayo                -0.130244\n",
            "19      20  Donovan Mitchell           -0.130244\n",
            "20      21  Luka Doncic                -0.130244\n",
            "21      22  Giannis Antetokounmpo      -0.130244\n",
            "22      23  Pascal Siakam              -0.130244\n",
            "23      24  Anthony Edwards            -0.130244\n",
            "24      25  Nikola Jokic               -0.130244\n",
            "25      26  Joel Embiid                -0.130244\n",
            "26      27  Lauri Markkanen            -0.130244\n"
          ]
        }
      ],
      "source": [
        "names_table = ranked_activations['names']\n",
        "names_table = names_table.reset_index(drop=True)  # Reset index to start from 0\n",
        "names_table.insert(0, 'Rank', range(1, len(names_table) + 1))  # Add rank column\n",
        "names_table_html = tabulate(names_table, headers='keys')  # Convert to HTML table\n",
        "\n",
        "# Print the HTML table\n",
        "print(names_table_html)\n",
        "\n",
        "# ranked_activations"
      ]
    },
    {
      "cell_type": "code",
      "execution_count": 25,
      "metadata": {
        "colab": {
          "base_uri": "https://localhost:8080/"
        },
        "id": "LdUkDQSpgkga",
        "outputId": "8cb94093-0a1b-420a-c481-985784693221"
      },
      "outputs": [
        {
          "name": "stdout",
          "output_type": "stream",
          "text": [
            "          feature  activation\n",
            "2           Guard    0.853101\n",
            "5      6_5 - 6_11    0.836984\n",
            "11        Round 1    0.723781\n",
            "9           30-34    0.715682\n",
            "14       Domestic    0.715682\n",
            "17        Western    0.672158\n",
            "4         6 - 6_5    0.124099\n",
            "16        Eastern   -0.105765\n",
            "0         Forward   -0.126248\n",
            "7           18-24   -0.137284\n",
            "15  International   -0.137284\n",
            "8           25-29   -0.141671\n",
            "10            35+   -0.141671\n",
            "12        Round 2   -0.141972\n",
            "13      Undrafted   -0.141972\n",
            "1          Center   -0.146032\n",
            "6      7 and Over   -0.148723\n",
            "3         Under 6   -0.148723\n"
          ]
        }
      ],
      "source": [
        "# Display the 'hidden' pool in a table\n",
        "feature_table = ranked_activations['features']\n",
        "#feature_table = feature_table.reset_index(drop=True)  # Reset index to start from 0\n",
        "#feature_table.insert(0, 'Rank', range(1, len(feature_table) + 1))  # Add rank column\n",
        "#feature_table_html = tabulate(feature_table, headers='keys')  # Convert to HTML table\n",
        "\n",
        "#Print feature table\n",
        "print(feature_table)"
      ]
    },
    {
      "cell_type": "code",
      "execution_count": 26,
      "metadata": {
        "colab": {
          "base_uri": "https://localhost:8080/",
          "height": 488
        },
        "id": "o_74gg09wCv8",
        "outputId": "17b587fd-893f-4304-81da-2478f46e6560"
      },
      "outputs": [
        {
          "data": {
            "text/html": [
              "<div>\n",
              "<style scoped>\n",
              "    .dataframe tbody tr th:only-of-type {\n",
              "        vertical-align: middle;\n",
              "    }\n",
              "\n",
              "    .dataframe tbody tr th {\n",
              "        vertical-align: top;\n",
              "    }\n",
              "\n",
              "    .dataframe thead th {\n",
              "        text-align: right;\n",
              "    }\n",
              "</style>\n",
              "<table border=\"1\" class=\"dataframe\">\n",
              "  <thead>\n",
              "    <tr style=\"text-align: right;\">\n",
              "      <th></th>\n",
              "      <th>feature</th>\n",
              "      <th>activation</th>\n",
              "    </tr>\n",
              "  </thead>\n",
              "  <tbody>\n",
              "    <tr>\n",
              "      <th>2</th>\n",
              "      <td>Guard</td>\n",
              "      <td>0.853101</td>\n",
              "    </tr>\n",
              "    <tr>\n",
              "      <th>5</th>\n",
              "      <td>6_5 - 6_11</td>\n",
              "      <td>0.836984</td>\n",
              "    </tr>\n",
              "    <tr>\n",
              "      <th>11</th>\n",
              "      <td>Round 1</td>\n",
              "      <td>0.723781</td>\n",
              "    </tr>\n",
              "    <tr>\n",
              "      <th>9</th>\n",
              "      <td>30-34</td>\n",
              "      <td>0.715682</td>\n",
              "    </tr>\n",
              "    <tr>\n",
              "      <th>14</th>\n",
              "      <td>Domestic</td>\n",
              "      <td>0.715682</td>\n",
              "    </tr>\n",
              "    <tr>\n",
              "      <th>17</th>\n",
              "      <td>Western</td>\n",
              "      <td>0.672158</td>\n",
              "    </tr>\n",
              "    <tr>\n",
              "      <th>4</th>\n",
              "      <td>6 - 6_5</td>\n",
              "      <td>0.124099</td>\n",
              "    </tr>\n",
              "    <tr>\n",
              "      <th>16</th>\n",
              "      <td>Eastern</td>\n",
              "      <td>-0.105765</td>\n",
              "    </tr>\n",
              "    <tr>\n",
              "      <th>0</th>\n",
              "      <td>Forward</td>\n",
              "      <td>-0.126248</td>\n",
              "    </tr>\n",
              "    <tr>\n",
              "      <th>7</th>\n",
              "      <td>18-24</td>\n",
              "      <td>-0.137284</td>\n",
              "    </tr>\n",
              "    <tr>\n",
              "      <th>15</th>\n",
              "      <td>International</td>\n",
              "      <td>-0.137284</td>\n",
              "    </tr>\n",
              "    <tr>\n",
              "      <th>8</th>\n",
              "      <td>25-29</td>\n",
              "      <td>-0.141671</td>\n",
              "    </tr>\n",
              "    <tr>\n",
              "      <th>10</th>\n",
              "      <td>35+</td>\n",
              "      <td>-0.141671</td>\n",
              "    </tr>\n",
              "    <tr>\n",
              "      <th>12</th>\n",
              "      <td>Round 2</td>\n",
              "      <td>-0.141972</td>\n",
              "    </tr>\n",
              "    <tr>\n",
              "      <th>13</th>\n",
              "      <td>Undrafted</td>\n",
              "      <td>-0.141972</td>\n",
              "    </tr>\n",
              "    <tr>\n",
              "      <th>1</th>\n",
              "      <td>Center</td>\n",
              "      <td>-0.146032</td>\n",
              "    </tr>\n",
              "    <tr>\n",
              "      <th>6</th>\n",
              "      <td>7 and Over</td>\n",
              "      <td>-0.148723</td>\n",
              "    </tr>\n",
              "    <tr>\n",
              "      <th>3</th>\n",
              "      <td>Under 6</td>\n",
              "      <td>-0.148723</td>\n",
              "    </tr>\n",
              "  </tbody>\n",
              "</table>\n",
              "</div>"
            ],
            "text/plain": [
              "          feature  activation\n",
              "2           Guard    0.853101\n",
              "5      6_5 - 6_11    0.836984\n",
              "11        Round 1    0.723781\n",
              "9           30-34    0.715682\n",
              "14       Domestic    0.715682\n",
              "17        Western    0.672158\n",
              "4         6 - 6_5    0.124099\n",
              "16        Eastern   -0.105765\n",
              "0         Forward   -0.126248\n",
              "7           18-24   -0.137284\n",
              "15  International   -0.137284\n",
              "8           25-29   -0.141671\n",
              "10            35+   -0.141671\n",
              "12        Round 2   -0.141972\n",
              "13      Undrafted   -0.141972\n",
              "1          Center   -0.146032\n",
              "6      7 and Over   -0.148723\n",
              "3         Under 6   -0.148723"
            ]
          },
          "execution_count": 26,
          "metadata": {},
          "output_type": "execute_result"
        }
      ],
      "source": [
        "feature_table"
      ]
    },
    {
      "cell_type": "code",
      "execution_count": 27,
      "metadata": {
        "colab": {
          "base_uri": "https://localhost:8080/",
          "height": 617
        },
        "id": "tTXL4Jop0WSr",
        "outputId": "b2154ca0-218f-42e4-ae02-7a4d7d992094"
      },
      "outputs": [],
      "source": [
        "# x = (np.asarray(feature_table['feature']))\n",
        "# y = (np.asarray(feature_table['activation']))\n",
        "# size = [int((abs(n))*500) for n in (y)]\n",
        "\n",
        "\n",
        "# #gang\n",
        "# camp_options = ['Jets', 'Sharks']\n",
        "# camp = feature_table[feature_table['feature'].isin(camp_options)]\n",
        "# camp_x = (np.asarray(camp['feature']))\n",
        "# camp_y = (np.asarray(camp['activation']))\n",
        "# camp_size = [int((abs(n))*500) for n in (camp_y)]\n",
        "\n",
        "# #age\n",
        "# age_options = ['20s', '30s', '40s']\n",
        "# age = feature_table[feature_table['feature'].isin(age_options)]\n",
        "# age_x = (np.asarray(age['feature']))\n",
        "# age_y = (np.asarray(age['activation']))\n",
        "# age_size = [int((abs(n))*500) for n in (age_y)]\n",
        "\n",
        "# #marital status\n",
        "# mar_options = ['Single', 'Married', 'Divorced']\n",
        "# mar = feature_table[feature_table['feature'].isin(mar_options)]\n",
        "# mar_x = (np.asarray(mar['feature']))\n",
        "# mar_y = (np.asarray(mar['activation']))\n",
        "# mar_size = [int((abs(n))*500) for n in (mar_y)]\n",
        "\n",
        "# #education\n",
        "# edu_options = ['JH', 'HS', 'COL']\n",
        "# edu = feature_table[feature_table['feature'].isin(edu_options)]\n",
        "# edu_x = (np.asarray(edu['feature']))\n",
        "# edu_y = (np.asarray(edu['activation']))\n",
        "# edu_size = [int((abs(n))*500) for n in (edu_y)]\n",
        "\n",
        "# #occupation\n",
        "# occ_options = ['Burglar', 'Pusher', 'Bookie']\n",
        "# occ = feature_table[feature_table['feature'].isin(occ_options)]\n",
        "# occ_x = (np.asarray(occ['feature']))\n",
        "# occ_y = (np.asarray(occ['activation']))\n",
        "# occ_size = [int((abs(n))*500) for n in (occ_y)]\n",
        "\n",
        "# plt.style.use('seaborn')\n",
        "# plt.scatter(x, y, c=y, s=size, vmin=-1, vmax=1, cmap='rainbow')\n",
        "# plt.xticks(rotation = 45)\n",
        "# plt.axhline(0, c='black', ls='--')\n",
        "# plt.xlabel(\"Features\")  \n",
        "# plt.ylabel(\"Activation Values\")\n",
        "# plt.colorbar()"
      ]
    },
    {
      "cell_type": "code",
      "execution_count": 28,
      "metadata": {
        "colab": {
          "base_uri": "https://localhost:8080/",
          "height": 576
        },
        "id": "m26a383nP7F5",
        "outputId": "e66c97b7-dac9-4f41-9aaa-ad7649e67a55"
      },
      "outputs": [],
      "source": [
        "# fig = plt.figure()\n",
        "# plt.style.use('seaborn')\n",
        "# fig, axs = plt.subplots(2, 3)\n",
        "# axs[0, 0].scatter(camp_x, camp_y, c=camp_y, s=camp_size, vmin=-1, vmax=1, cmap='rainbow')\n",
        "# axs[0, 0].set_title('Gang')\n",
        "# axs[0, 0].axhline(0, c='black', ls='--')\n",
        "\n",
        "# axs[0, 1].scatter(age_x, age_y, c=age_y, s=age_size, vmin=-1, vmax=1, cmap='rainbow')\n",
        "# axs[0, 1].set_title('Age')\n",
        "# axs[0, 1].axhline(0, c='black', ls='--')\n",
        "\n",
        "# axs[0, 2].scatter(mar_x, mar_y, c=mar_y, s=mar_size, vmin=-1, vmax=1, cmap='rainbow')\n",
        "# axs[0, 2].set_title('Marital Status')\n",
        "# axs[0, 2].axhline(0, c='black', ls='--')\n",
        "\n",
        "# axs[1, 0].scatter(edu_x, edu_y, c=edu_y, s=edu_size, vmin=-1, vmax=1, cmap='rainbow')\n",
        "# axs[1, 0].set_title('Education')\n",
        "# axs[1, 0].axhline(0, c='black', ls='--')\n",
        "\n",
        "# axs[1, 1].scatter(occ_x, occ_y, c=occ_y, s=occ_size, vmin=-1, vmax=1, cmap='rainbow')\n",
        "# axs[1, 1].set_title('Occupation')\n",
        "# axs[1, 1].axhline(0, c='black', ls='--')\n",
        "\n",
        "# fig.tight_layout(pad=3.0)   \n",
        "# plt.show()\n"
      ]
    },
    {
      "cell_type": "code",
      "execution_count": null,
      "metadata": {
        "id": "TSHrooSm0soF"
      },
      "outputs": [],
      "source": []
    }
  ],
  "metadata": {
    "colab": {
      "provenance": []
    },
    "kernelspec": {
      "display_name": "my-conda-env",
      "language": "python",
      "name": "python3"
    },
    "language_info": {
      "codemirror_mode": {
        "name": "ipython",
        "version": 3
      },
      "file_extension": ".py",
      "mimetype": "text/x-python",
      "name": "python",
      "nbconvert_exporter": "python",
      "pygments_lexer": "ipython3",
      "version": "3.8.2"
    },
    "orig_nbformat": 4
  },
  "nbformat": 4,
  "nbformat_minor": 0
}
